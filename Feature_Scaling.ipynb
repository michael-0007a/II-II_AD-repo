{
  "nbformat": 4,
  "nbformat_minor": 0,
  "metadata": {
    "colab": {
      "provenance": [],
      "authorship_tag": "ABX9TyPKSz6SQRhaDCAx425ftsHa",
      "include_colab_link": true
    },
    "kernelspec": {
      "name": "python3",
      "display_name": "Python 3"
    },
    "language_info": {
      "name": "python"
    }
  },
  "cells": [
    {
      "cell_type": "markdown",
      "metadata": {
        "id": "view-in-github",
        "colab_type": "text"
      },
      "source": [
        "<a href=\"https://colab.research.google.com/github/michael-0007a/II-II_AD-repo/blob/main/Feature_Scaling.ipynb\" target=\"_parent\"><img src=\"https://colab.research.google.com/assets/colab-badge.svg\" alt=\"Open In Colab\"/></a>"
      ]
    },
    {
      "cell_type": "code",
      "execution_count": 1,
      "metadata": {
        "colab": {
          "base_uri": "https://localhost:8080/"
        },
        "id": "_MnuolfosaA4",
        "outputId": "f38ff3d7-3bfa-4c9a-a9cb-a51771616fb5"
      },
      "outputs": [
        {
          "output_type": "stream",
          "name": "stdout",
          "text": [
            "Original DataFrame:\n",
            "   customer_id  gender       city  fruits\n",
            "0            1    Male  Hyderabad   Apple\n",
            "1            2  Female       Pune  Orange\n",
            "2            3  Female  Bangalore    Kiwi\n",
            "3            4    Male     Mumbai  Banana\n",
            "\n",
            "DataFrame with One-Hot Encoded columns:\n",
            "   customer_id  gender_Female  gender_Male  city_Bangalore  city_Hyderabad  \\\n",
            "0            1            0.0          1.0             0.0             1.0   \n",
            "1            2            1.0          0.0             0.0             0.0   \n",
            "2            3            1.0          0.0             1.0             0.0   \n",
            "3            4            0.0          1.0             0.0             0.0   \n",
            "\n",
            "   city_Mumbai  city_Pune  fruits_Apple  fruits_Banana  fruits_Kiwi  \\\n",
            "0          0.0        0.0           1.0            0.0          0.0   \n",
            "1          0.0        1.0           0.0            0.0          0.0   \n",
            "2          0.0        0.0           0.0            0.0          1.0   \n",
            "3          1.0        0.0           0.0            1.0          0.0   \n",
            "\n",
            "   fruits_Orange  \n",
            "0            0.0  \n",
            "1            1.0  \n",
            "2            0.0  \n",
            "3            0.0  \n"
          ]
        }
      ],
      "source": [
        "import pandas as pd\n",
        "from sklearn.preprocessing import OneHotEncoder\n",
        "\n",
        "# Sample data\n",
        "data = {\n",
        "    \"customer_id\": [1, 2, 3, 4],\n",
        "    \"gender\": [\"Male\", \"Female\", \"Female\", \"Male\"],\n",
        "    \"city\": [\"Hyderabad\", \"Pune\", \"Bangalore\", \"Mumbai\"],\n",
        "    \"fruits\": [\"Apple\", \"Orange\", \"Kiwi\", \"Banana\"]\n",
        "}\n",
        "df = pd.DataFrame(data)\n",
        "print(\"Original DataFrame:\")\n",
        "print(df)\n",
        "\n",
        "# Initialize OneHotEncoder\n",
        "one_hot_encoder = OneHotEncoder(sparse_output=False)\n",
        "\n",
        "# Define columns to encode\n",
        "columns_to_encode = [\"gender\", \"city\", \"fruits\"]\n",
        "\n",
        "# Fit and transform the data\n",
        "encoded_data = one_hot_encoder.fit_transform(df[columns_to_encode])\n",
        "\n",
        "# Create a DataFrame with the encoded data\n",
        "encoded_df = pd.DataFrame(encoded_data, columns=one_hot_encoder.get_feature_names_out(columns_to_encode))\n",
        "\n",
        "# Concatenate the original DataFrame with the encoded DataFrame\n",
        "final_df = pd.concat([df, encoded_df], axis=1).drop(columns_to_encode, axis=1)\n",
        "print(\"\\nDataFrame with One-Hot Encoded columns:\")\n",
        "print(final_df)"
      ]
    },
    {
      "cell_type": "code",
      "source": [
        "import pandas as pd\n",
        "from sklearn.preprocessing import LabelEncoder\n",
        "\n",
        "data = {\n",
        "    \"customer_id\": [1, 2, 3, 4],\n",
        "    \"Ranks\": [\"first\", \"second\", \"third\", \"fourth\"],\n",
        "    \"fruits\": [\"orange\", \"apple\", \"pineapple\", \"watermelon\"]\n",
        "}\n",
        "\n",
        "df = pd.DataFrame(data)\n",
        "print(\"Original DataFrame:\")\n",
        "print(df)\n",
        "\n",
        "label_encoder = LabelEncoder()\n",
        "df[\"fruits\"] = label_encoder.fit_transform(df[\"fruits\"])\n",
        "df[\"Ranks\"] = label_encoder.fit_transform(df[\"Ranks\"])\n",
        "print(\"\\nDataFrame after encoding ranks with custom order:\")\n",
        "print(df)"
      ],
      "metadata": {
        "colab": {
          "base_uri": "https://localhost:8080/"
        },
        "id": "pHMe1mHetUln",
        "outputId": "b80a0b20-eb2a-45ac-df28-d78045eda27a"
      },
      "execution_count": 2,
      "outputs": [
        {
          "output_type": "stream",
          "name": "stdout",
          "text": [
            "Original DataFrame:\n",
            "   customer_id   Ranks      fruits\n",
            "0            1   first      orange\n",
            "1            2  second       apple\n",
            "2            3   third   pineapple\n",
            "3            4  fourth  watermelon\n",
            "\n",
            "DataFrame after encoding ranks with custom order:\n",
            "   customer_id  Ranks  fruits\n",
            "0            1      0       1\n",
            "1            2      2       0\n",
            "2            3      3       2\n",
            "3            4      1       3\n"
          ]
        }
      ]
    },
    {
      "cell_type": "code",
      "source": [],
      "metadata": {
        "id": "mF4ymUGfvA_f"
      },
      "execution_count": null,
      "outputs": []
    }
  ]
}